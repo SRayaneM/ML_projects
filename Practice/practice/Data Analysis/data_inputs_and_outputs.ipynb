{
 "cells": [
  {
   "cell_type": "code",
   "execution_count": 1,
   "metadata": {},
   "outputs": [],
   "source": [
    "import pandas as pd"
   ]
  },
  {
   "cell_type": "code",
   "execution_count": 2,
   "metadata": {},
   "outputs": [],
   "source": [
    "df =pd.read_excel('Excel_Sample.xlsx', sheet_name = 'Sheet1', index_col= 0)\n",
    "df.to_excel('Excel_Sample2.xlsx', sheet_name = 'NewSheet')"
   ]
  },
  {
   "cell_type": "code",
   "execution_count": 26,
   "metadata": {},
   "outputs": [
    {
     "data": {
      "text/html": [
       "<div>\n",
       "<style scoped>\n",
       "    .dataframe tbody tr th:only-of-type {\n",
       "        vertical-align: middle;\n",
       "    }\n",
       "\n",
       "    .dataframe tbody tr th {\n",
       "        vertical-align: top;\n",
       "    }\n",
       "\n",
       "    .dataframe thead th {\n",
       "        text-align: right;\n",
       "    }\n",
       "</style>\n",
       "<table border=\"1\" class=\"dataframe\">\n",
       "  <thead>\n",
       "    <tr style=\"text-align: right;\">\n",
       "      <th></th>\n",
       "      <th>a</th>\n",
       "      <th>b</th>\n",
       "      <th>c</th>\n",
       "      <th>d</th>\n",
       "    </tr>\n",
       "  </thead>\n",
       "  <tbody>\n",
       "    <tr>\n",
       "      <th>0</th>\n",
       "      <td>0</td>\n",
       "      <td>1</td>\n",
       "      <td>2</td>\n",
       "      <td>3</td>\n",
       "    </tr>\n",
       "    <tr>\n",
       "      <th>1</th>\n",
       "      <td>4</td>\n",
       "      <td>5</td>\n",
       "      <td>6</td>\n",
       "      <td>7</td>\n",
       "    </tr>\n",
       "    <tr>\n",
       "      <th>2</th>\n",
       "      <td>8</td>\n",
       "      <td>9</td>\n",
       "      <td>10</td>\n",
       "      <td>11</td>\n",
       "    </tr>\n",
       "    <tr>\n",
       "      <th>3</th>\n",
       "      <td>12</td>\n",
       "      <td>13</td>\n",
       "      <td>14</td>\n",
       "      <td>15</td>\n",
       "    </tr>\n",
       "  </tbody>\n",
       "</table>\n",
       "</div>"
      ],
      "text/plain": [
       "    a   b   c   d\n",
       "0   0   1   2   3\n",
       "1   4   5   6   7\n",
       "2   8   9  10  11\n",
       "3  12  13  14  15"
      ]
     },
     "execution_count": 26,
     "metadata": {},
     "output_type": "execute_result"
    }
   ],
   "source": [
    "df2 = pd.DataFrame({'a' : [0, 4,8, 12], 'b': [1, 5, 9, 13], 'c':[2,6,10,14], 'd': [3,7,11,15]})\n",
    "\n",
    "df2"
   ]
  },
  {
   "cell_type": "markdown",
   "metadata": {},
   "source": [
    "Can't find a good html website to try this with."
   ]
  },
  {
   "cell_type": "code",
   "execution_count": null,
   "metadata": {},
   "outputs": [],
   "source": [
    "data = pd.read_html('https://www.fdic.gov/resources/resolutions/bank-failures/failed-bank-list/')"
   ]
  },
  {
   "cell_type": "markdown",
   "metadata": {},
   "source": [
    "Pandas aren't the best way to work with sql, in comparison to SQLite, PYSql, MySQL, etc."
   ]
  },
  {
   "cell_type": "code",
   "execution_count": 24,
   "metadata": {},
   "outputs": [],
   "source": [
    "from sqlalchemy import create_engine\n",
    "\n",
    "engine = create_engine('sqlite://', echo=False)\n",
    "\n"
   ]
  },
  {
   "cell_type": "code",
   "execution_count": 28,
   "metadata": {},
   "outputs": [
    {
     "ename": "TypeError",
     "evalue": "__init__() got multiple values for argument 'schema'",
     "output_type": "error",
     "traceback": [
      "\u001b[1;31m---------------------------------------------------------------------------\u001b[0m",
      "\u001b[1;31mTypeError\u001b[0m                                 Traceback (most recent call last)",
      "\u001b[1;32mc:\\Users\\Rayni\\Desktop\\Coding\\ML_Projects\\Practice\\practice\\data_inputs_and_outputs.ipynb Cell 8\u001b[0m line \u001b[0;36m1\n\u001b[1;32m----> <a href='vscode-notebook-cell:/c%3A/Users/Rayni/Desktop/Coding/ML_Projects/Practice/practice/data_inputs_and_outputs.ipynb#X16sZmlsZQ%3D%3D?line=0'>1</a>\u001b[0m df2\u001b[39m.\u001b[39;49mto_sql(\u001b[39m'\u001b[39;49m\u001b[39mmy_table\u001b[39;49m\u001b[39m'\u001b[39;49m, engine)\n",
      "File \u001b[1;32m~\\AppData\\Local\\Packages\\PythonSoftwareFoundation.Python.3.9_qbz5n2kfra8p0\\LocalCache\\local-packages\\Python39\\site-packages\\pandas\\core\\generic.py:2872\u001b[0m, in \u001b[0;36mNDFrame.to_sql\u001b[1;34m(self, name, con, schema, if_exists, index, index_label, chunksize, dtype, method)\u001b[0m\n\u001b[0;32m   2734\u001b[0m \u001b[39m\"\"\"\u001b[39;00m\n\u001b[0;32m   2735\u001b[0m \u001b[39mWrite records stored in a DataFrame to a SQL database.\u001b[39;00m\n\u001b[0;32m   2736\u001b[0m \n\u001b[1;32m   (...)\u001b[0m\n\u001b[0;32m   2868\u001b[0m \u001b[39m[(1,), (None,), (2,)]\u001b[39;00m\n\u001b[0;32m   2869\u001b[0m \u001b[39m\"\"\"\u001b[39;00m\n\u001b[0;32m   2870\u001b[0m \u001b[39mfrom\u001b[39;00m \u001b[39mpandas\u001b[39;00m\u001b[39m.\u001b[39;00m\u001b[39mio\u001b[39;00m \u001b[39mimport\u001b[39;00m sql\n\u001b[1;32m-> 2872\u001b[0m sql\u001b[39m.\u001b[39;49mto_sql(\n\u001b[0;32m   2873\u001b[0m     \u001b[39mself\u001b[39;49m,\n\u001b[0;32m   2874\u001b[0m     name,\n\u001b[0;32m   2875\u001b[0m     con,\n\u001b[0;32m   2876\u001b[0m     schema\u001b[39m=\u001b[39;49mschema,\n\u001b[0;32m   2877\u001b[0m     if_exists\u001b[39m=\u001b[39;49mif_exists,\n\u001b[0;32m   2878\u001b[0m     index\u001b[39m=\u001b[39;49mindex,\n\u001b[0;32m   2879\u001b[0m     index_label\u001b[39m=\u001b[39;49mindex_label,\n\u001b[0;32m   2880\u001b[0m     chunksize\u001b[39m=\u001b[39;49mchunksize,\n\u001b[0;32m   2881\u001b[0m     dtype\u001b[39m=\u001b[39;49mdtype,\n\u001b[0;32m   2882\u001b[0m     method\u001b[39m=\u001b[39;49mmethod,\n\u001b[0;32m   2883\u001b[0m )\n",
      "File \u001b[1;32m~\\AppData\\Local\\Packages\\PythonSoftwareFoundation.Python.3.9_qbz5n2kfra8p0\\LocalCache\\local-packages\\Python39\\site-packages\\pandas\\io\\sql.py:708\u001b[0m, in \u001b[0;36mto_sql\u001b[1;34m(frame, name, con, schema, if_exists, index, index_label, chunksize, dtype, method, engine, **engine_kwargs)\u001b[0m\n\u001b[0;32m    705\u001b[0m \u001b[39mif\u001b[39;00m if_exists \u001b[39mnot\u001b[39;00m \u001b[39min\u001b[39;00m (\u001b[39m\"\u001b[39m\u001b[39mfail\u001b[39m\u001b[39m\"\u001b[39m, \u001b[39m\"\u001b[39m\u001b[39mreplace\u001b[39m\u001b[39m\"\u001b[39m, \u001b[39m\"\u001b[39m\u001b[39mappend\u001b[39m\u001b[39m\"\u001b[39m):\n\u001b[0;32m    706\u001b[0m     \u001b[39mraise\u001b[39;00m \u001b[39mValueError\u001b[39;00m(\u001b[39mf\u001b[39m\u001b[39m\"\u001b[39m\u001b[39m'\u001b[39m\u001b[39m{\u001b[39;00mif_exists\u001b[39m}\u001b[39;00m\u001b[39m'\u001b[39m\u001b[39m is not valid for if_exists\u001b[39m\u001b[39m\"\u001b[39m)\n\u001b[1;32m--> 708\u001b[0m pandas_sql \u001b[39m=\u001b[39m pandasSQL_builder(con, schema\u001b[39m=\u001b[39;49mschema)\n\u001b[0;32m    710\u001b[0m \u001b[39mif\u001b[39;00m \u001b[39misinstance\u001b[39m(frame, Series):\n\u001b[0;32m    711\u001b[0m     frame \u001b[39m=\u001b[39m frame\u001b[39m.\u001b[39mto_frame()\n",
      "File \u001b[1;32m~\\AppData\\Local\\Packages\\PythonSoftwareFoundation.Python.3.9_qbz5n2kfra8p0\\LocalCache\\local-packages\\Python39\\site-packages\\pandas\\io\\sql.py:788\u001b[0m, in \u001b[0;36mpandasSQL_builder\u001b[1;34m(con, schema, meta, is_cursor)\u001b[0m\n\u001b[0;32m    786\u001b[0m con \u001b[39m=\u001b[39m _engine_builder(con)\n\u001b[0;32m    787\u001b[0m \u001b[39mif\u001b[39;00m _is_sqlalchemy_connectable(con):\n\u001b[1;32m--> 788\u001b[0m     \u001b[39mreturn\u001b[39;00m SQLDatabase(con, schema\u001b[39m=\u001b[39;49mschema, meta\u001b[39m=\u001b[39;49mmeta)\n\u001b[0;32m    789\u001b[0m \u001b[39melif\u001b[39;00m \u001b[39misinstance\u001b[39m(con, \u001b[39mstr\u001b[39m):\n\u001b[0;32m    790\u001b[0m     \u001b[39mraise\u001b[39;00m \u001b[39mImportError\u001b[39;00m(\u001b[39m\"\u001b[39m\u001b[39mUsing URI string without sqlalchemy installed.\u001b[39m\u001b[39m\"\u001b[39m)\n",
      "File \u001b[1;32m~\\AppData\\Local\\Packages\\PythonSoftwareFoundation.Python.3.9_qbz5n2kfra8p0\\LocalCache\\local-packages\\Python39\\site-packages\\pandas\\io\\sql.py:1410\u001b[0m, in \u001b[0;36mSQLDatabase.__init__\u001b[1;34m(self, engine, schema, meta)\u001b[0m\n\u001b[0;32m   1407\u001b[0m \u001b[39mif\u001b[39;00m \u001b[39mnot\u001b[39;00m meta:\n\u001b[0;32m   1408\u001b[0m     \u001b[39mfrom\u001b[39;00m \u001b[39msqlalchemy\u001b[39;00m\u001b[39m.\u001b[39;00m\u001b[39mschema\u001b[39;00m \u001b[39mimport\u001b[39;00m MetaData\n\u001b[1;32m-> 1410\u001b[0m     meta \u001b[39m=\u001b[39m MetaData(\u001b[39mself\u001b[39;49m\u001b[39m.\u001b[39;49mconnectable, schema\u001b[39m=\u001b[39;49mschema)\n\u001b[0;32m   1412\u001b[0m \u001b[39mself\u001b[39m\u001b[39m.\u001b[39mmeta \u001b[39m=\u001b[39m meta\n",
      "\u001b[1;31mTypeError\u001b[0m: __init__() got multiple values for argument 'schema'"
     ]
    }
   ],
   "source": [
    "df2.to_sql('my_table', engine)"
   ]
  },
  {
   "cell_type": "code",
   "execution_count": 25,
   "metadata": {},
   "outputs": [
    {
     "ename": "TypeError",
     "evalue": "__init__() got multiple values for argument 'schema'",
     "output_type": "error",
     "traceback": [
      "\u001b[1;31m---------------------------------------------------------------------------\u001b[0m",
      "\u001b[1;31mTypeError\u001b[0m                                 Traceback (most recent call last)",
      "\u001b[1;32mc:\\Users\\Rayni\\Desktop\\Coding\\ML_Projects\\Practice\\practice\\data_inputs_and_outputs.ipynb Cell 8\u001b[0m line \u001b[0;36m1\n\u001b[1;32m----> <a href='vscode-notebook-cell:/c%3A/Users/Rayni/Desktop/Coding/ML_Projects/Practice/practice/data_inputs_and_outputs.ipynb#X11sZmlsZQ%3D%3D?line=0'>1</a>\u001b[0m df2\u001b[39m.\u001b[39;49mto_sql(name \u001b[39m=\u001b[39;49m \u001b[39m'\u001b[39;49m\u001b[39mmy_table\u001b[39;49m\u001b[39m'\u001b[39;49m, con \u001b[39m=\u001b[39;49m engine)\n",
      "File \u001b[1;32m~\\AppData\\Local\\Packages\\PythonSoftwareFoundation.Python.3.9_qbz5n2kfra8p0\\LocalCache\\local-packages\\Python39\\site-packages\\pandas\\core\\generic.py:2872\u001b[0m, in \u001b[0;36mNDFrame.to_sql\u001b[1;34m(self, name, con, schema, if_exists, index, index_label, chunksize, dtype, method)\u001b[0m\n\u001b[0;32m   2734\u001b[0m \u001b[39m\"\"\"\u001b[39;00m\n\u001b[0;32m   2735\u001b[0m \u001b[39mWrite records stored in a DataFrame to a SQL database.\u001b[39;00m\n\u001b[0;32m   2736\u001b[0m \n\u001b[1;32m   (...)\u001b[0m\n\u001b[0;32m   2868\u001b[0m \u001b[39m[(1,), (None,), (2,)]\u001b[39;00m\n\u001b[0;32m   2869\u001b[0m \u001b[39m\"\"\"\u001b[39;00m\n\u001b[0;32m   2870\u001b[0m \u001b[39mfrom\u001b[39;00m \u001b[39mpandas\u001b[39;00m\u001b[39m.\u001b[39;00m\u001b[39mio\u001b[39;00m \u001b[39mimport\u001b[39;00m sql\n\u001b[1;32m-> 2872\u001b[0m sql\u001b[39m.\u001b[39;49mto_sql(\n\u001b[0;32m   2873\u001b[0m     \u001b[39mself\u001b[39;49m,\n\u001b[0;32m   2874\u001b[0m     name,\n\u001b[0;32m   2875\u001b[0m     con,\n\u001b[0;32m   2876\u001b[0m     schema\u001b[39m=\u001b[39;49mschema,\n\u001b[0;32m   2877\u001b[0m     if_exists\u001b[39m=\u001b[39;49mif_exists,\n\u001b[0;32m   2878\u001b[0m     index\u001b[39m=\u001b[39;49mindex,\n\u001b[0;32m   2879\u001b[0m     index_label\u001b[39m=\u001b[39;49mindex_label,\n\u001b[0;32m   2880\u001b[0m     chunksize\u001b[39m=\u001b[39;49mchunksize,\n\u001b[0;32m   2881\u001b[0m     dtype\u001b[39m=\u001b[39;49mdtype,\n\u001b[0;32m   2882\u001b[0m     method\u001b[39m=\u001b[39;49mmethod,\n\u001b[0;32m   2883\u001b[0m )\n",
      "File \u001b[1;32m~\\AppData\\Local\\Packages\\PythonSoftwareFoundation.Python.3.9_qbz5n2kfra8p0\\LocalCache\\local-packages\\Python39\\site-packages\\pandas\\io\\sql.py:708\u001b[0m, in \u001b[0;36mto_sql\u001b[1;34m(frame, name, con, schema, if_exists, index, index_label, chunksize, dtype, method, engine, **engine_kwargs)\u001b[0m\n\u001b[0;32m    705\u001b[0m \u001b[39mif\u001b[39;00m if_exists \u001b[39mnot\u001b[39;00m \u001b[39min\u001b[39;00m (\u001b[39m\"\u001b[39m\u001b[39mfail\u001b[39m\u001b[39m\"\u001b[39m, \u001b[39m\"\u001b[39m\u001b[39mreplace\u001b[39m\u001b[39m\"\u001b[39m, \u001b[39m\"\u001b[39m\u001b[39mappend\u001b[39m\u001b[39m\"\u001b[39m):\n\u001b[0;32m    706\u001b[0m     \u001b[39mraise\u001b[39;00m \u001b[39mValueError\u001b[39;00m(\u001b[39mf\u001b[39m\u001b[39m\"\u001b[39m\u001b[39m'\u001b[39m\u001b[39m{\u001b[39;00mif_exists\u001b[39m}\u001b[39;00m\u001b[39m'\u001b[39m\u001b[39m is not valid for if_exists\u001b[39m\u001b[39m\"\u001b[39m)\n\u001b[1;32m--> 708\u001b[0m pandas_sql \u001b[39m=\u001b[39m pandasSQL_builder(con, schema\u001b[39m=\u001b[39;49mschema)\n\u001b[0;32m    710\u001b[0m \u001b[39mif\u001b[39;00m \u001b[39misinstance\u001b[39m(frame, Series):\n\u001b[0;32m    711\u001b[0m     frame \u001b[39m=\u001b[39m frame\u001b[39m.\u001b[39mto_frame()\n",
      "File \u001b[1;32m~\\AppData\\Local\\Packages\\PythonSoftwareFoundation.Python.3.9_qbz5n2kfra8p0\\LocalCache\\local-packages\\Python39\\site-packages\\pandas\\io\\sql.py:788\u001b[0m, in \u001b[0;36mpandasSQL_builder\u001b[1;34m(con, schema, meta, is_cursor)\u001b[0m\n\u001b[0;32m    786\u001b[0m con \u001b[39m=\u001b[39m _engine_builder(con)\n\u001b[0;32m    787\u001b[0m \u001b[39mif\u001b[39;00m _is_sqlalchemy_connectable(con):\n\u001b[1;32m--> 788\u001b[0m     \u001b[39mreturn\u001b[39;00m SQLDatabase(con, schema\u001b[39m=\u001b[39;49mschema, meta\u001b[39m=\u001b[39;49mmeta)\n\u001b[0;32m    789\u001b[0m \u001b[39melif\u001b[39;00m \u001b[39misinstance\u001b[39m(con, \u001b[39mstr\u001b[39m):\n\u001b[0;32m    790\u001b[0m     \u001b[39mraise\u001b[39;00m \u001b[39mImportError\u001b[39;00m(\u001b[39m\"\u001b[39m\u001b[39mUsing URI string without sqlalchemy installed.\u001b[39m\u001b[39m\"\u001b[39m)\n",
      "File \u001b[1;32m~\\AppData\\Local\\Packages\\PythonSoftwareFoundation.Python.3.9_qbz5n2kfra8p0\\LocalCache\\local-packages\\Python39\\site-packages\\pandas\\io\\sql.py:1410\u001b[0m, in \u001b[0;36mSQLDatabase.__init__\u001b[1;34m(self, engine, schema, meta)\u001b[0m\n\u001b[0;32m   1407\u001b[0m \u001b[39mif\u001b[39;00m \u001b[39mnot\u001b[39;00m meta:\n\u001b[0;32m   1408\u001b[0m     \u001b[39mfrom\u001b[39;00m \u001b[39msqlalchemy\u001b[39;00m\u001b[39m.\u001b[39;00m\u001b[39mschema\u001b[39;00m \u001b[39mimport\u001b[39;00m MetaData\n\u001b[1;32m-> 1410\u001b[0m     meta \u001b[39m=\u001b[39m MetaData(\u001b[39mself\u001b[39;49m\u001b[39m.\u001b[39;49mconnectable, schema\u001b[39m=\u001b[39;49mschema)\n\u001b[0;32m   1412\u001b[0m \u001b[39mself\u001b[39m\u001b[39m.\u001b[39mmeta \u001b[39m=\u001b[39m meta\n",
      "\u001b[1;31mTypeError\u001b[0m: __init__() got multiple values for argument 'schema'"
     ]
    }
   ],
   "source": [
    "df2.to_sql(name = 'my_table', con = engine)\n",
    "\n",
    "\n"
   ]
  },
  {
   "cell_type": "code",
   "execution_count": null,
   "metadata": {},
   "outputs": [],
   "source": [
    "from sqlalchemy import text\n",
    "with engine.connect() as conn:\n",
    "   conn.execute(text(\"SELECT * FROM my_table\")).fetchall()"
   ]
  }
 ],
 "metadata": {
  "kernelspec": {
   "display_name": "Python 3",
   "language": "python",
   "name": "python3"
  },
  "language_info": {
   "codemirror_mode": {
    "name": "ipython",
    "version": 3
   },
   "file_extension": ".py",
   "mimetype": "text/x-python",
   "name": "python",
   "nbconvert_exporter": "python",
   "pygments_lexer": "ipython3",
   "version": "3.9.13"
  }
 },
 "nbformat": 4,
 "nbformat_minor": 2
}
